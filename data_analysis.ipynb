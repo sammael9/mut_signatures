{
 "cells": [
  {
   "cell_type": "code",
   "execution_count": 1,
   "metadata": {
    "collapsed": true
   },
   "outputs": [],
   "source": [
    "import pandas as pd\n",
    "import numpy as np\n",
    "from sklearn.metrics.pairwise import cosine_similarity, cosine_distances, paired_distances\n",
    "from sklearn.metrics import pairwise_distances\n",
    "import numpy as np\n",
    "from scipy import spatial\n",
    "from sklearn.decomposition import NMF"
   ]
  },
  {
   "cell_type": "code",
   "execution_count": 225,
   "metadata": {},
   "outputs": [],
   "source": [
    "mutational_matrix = pd.read_csv(r'./resources/mut_mat.csv')\n",
    "reconstructed_matrix = pd.read_csv(r'./resources/reconstructed.csv')\n",
    "cosmic_catalog = pd.read_csv(r'./resources/cosmic_mutations.csv', delimiter='\\t')\n",
    "contribution_matrix = pd.read_csv(r'./resources/contribution.csv')"
   ]
  },
  {
   "cell_type": "code",
   "execution_count": 226,
   "metadata": {},
   "outputs": [],
   "source": [
    "mutational_matrix = mutational_matrix.sort_values(by='Somatic Mutation Type', axis=0)\n",
    "reconstructed_matrix = reconstructed_matrix.sort_values(by='Somatic Mutation Type', axis=0)\n",
    "cosmic_catalog = cosmic_catalog.sort_values(by='Somatic Mutation Type', axis=0)"
   ]
  },
  {
   "cell_type": "code",
   "execution_count": 227,
   "metadata": {},
   "outputs": [],
   "source": [
    "cosmic_catalog = cosmic_catalog.loc[:, ~cosmic_catalog.columns.str.contains('^Unnamed')]"
   ]
  },
  {
   "cell_type": "code",
   "execution_count": 309,
   "metadata": {},
   "outputs": [],
   "source": [
    "all = ['colon1','colon2','colon3','intestine1','intestine2','intestine3','liver1','liver2','liver3']\n",
    "selected = ['liver3']"
   ]
  },
  {
   "cell_type": "code",
   "execution_count": 310,
   "metadata": {},
   "outputs": [],
   "source": [
    "my_input = mutational_matrix[all].values\n",
    "my_reconstructed = reconstructed_matrix[all].values\n",
    "my_contribution = contribution_matrix[all].values"
   ]
  },
  {
   "cell_type": "code",
   "execution_count": 311,
   "metadata": {},
   "outputs": [],
   "source": [
    "my_catalog = cosmic_catalog.loc[:, cosmic_catalog.columns.str.contains('^Signature')].values"
   ]
  },
  {
   "cell_type": "code",
   "execution_count": 312,
   "metadata": {},
   "outputs": [],
   "source": [
    "new_matrix = np.dot(my_catalog, my_contribution)"
   ]
  },
  {
   "cell_type": "code",
   "execution_count": 313,
   "metadata": {},
   "outputs": [],
   "source": [
    "similarity = paired_distances(new_matrix.reshape(-1,1), my_input.reshape(-1,1), metric='manhattan')"
   ]
  },
  {
   "cell_type": "code",
   "execution_count": 314,
   "metadata": {},
   "outputs": [
    {
     "data": {
      "text/plain": [
       "1.5375217392027791"
      ]
     },
     "execution_count": 314,
     "metadata": {},
     "output_type": "execute_result"
    }
   ],
   "source": [
    "np.average(similarity)"
   ]
  },
  {
   "cell_type": "code",
   "execution_count": 315,
   "metadata": {},
   "outputs": [
    {
     "data": {
      "text/plain": [
       "1328.4187826712011"
      ]
     },
     "execution_count": 315,
     "metadata": {},
     "output_type": "execute_result"
    }
   ],
   "source": [
    "np.sum(similarity)"
   ]
  }
 ],
 "metadata": {
  "kernelspec": {
   "display_name": "Python 3",
   "language": "python",
   "name": "python3"
  },
  "language_info": {
   "codemirror_mode": {
    "name": "ipython",
    "version": 3
   },
   "file_extension": ".py",
   "mimetype": "text/x-python",
   "name": "python",
   "nbconvert_exporter": "python",
   "pygments_lexer": "ipython3",
   "version": "3.6.4"
  }
 },
 "nbformat": 4,
 "nbformat_minor": 2
}
