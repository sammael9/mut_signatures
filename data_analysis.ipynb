{
 "cells": [
  {
   "cell_type": "code",
   "execution_count": 1,
   "metadata": {
    "collapsed": true
   },
   "outputs": [],
   "source": [
    "import pandas as pd\n",
    "import numpy as np"
   ]
  },
  {
   "cell_type": "code",
   "execution_count": 2,
   "metadata": {},
   "outputs": [],
   "source": [
    "mutational_matrix = pd.read_csv(r'./resources/mut_mat.csv')\n",
    "reconstructed_matrix = pd.read_csv(r'./resources/reconstructed.csv')\n",
    "cosmic_catalog = pd.read_csv(r'./resources/cosmic_mutations.csv', delimiter='\\t')\n",
    "contribution_matrix = pd.read_csv(r'./resources/contribution.csv')"
   ]
  },
  {
   "cell_type": "code",
   "execution_count": 3,
   "metadata": {},
   "outputs": [],
   "source": [
    "mutational_matrix = mutational_matrix.sort_values(by='Somatic Mutation Type', axis=0)\n",
    "reconstructed_matrix = reconstructed_matrix.sort_values(by='Somatic Mutation Type', axis=0)\n",
    "cosmic_catalog = cosmic_catalog.sort_values(by='Somatic Mutation Type', axis=0)"
   ]
  },
  {
   "cell_type": "code",
   "execution_count": 4,
   "metadata": {},
   "outputs": [],
   "source": [
    "cosmic_catalog = cosmic_catalog.loc[:, ~cosmic_catalog.columns.str.contains('^Unnamed')]"
   ]
  },
  {
   "cell_type": "code",
   "execution_count": 6,
   "metadata": {},
   "outputs": [],
   "source": [
    "my_input = mutational_matrix['colon1'].values\n",
    "my_reconstructed = reconstructed_matrix['colon1'].values\n",
    "my_contribution = contribution_matrix['colon1'].values"
   ]
  },
  {
   "cell_type": "code",
   "execution_count": 5,
   "metadata": {},
   "outputs": [],
   "source": [
    "my_catalog = cosmic_catalog.loc[:, cosmic_catalog.columns.str.contains('^Signature')].values"
   ]
  },
  {
   "cell_type": "code",
   "execution_count": 7,
   "metadata": {},
   "outputs": [],
   "source": [
    "from sklearn.metrics.pairwise import cosine_similarity, cosine_distances, paired_distances\n",
    "from sklearn.metrics import pairwise_distances\n",
    "import numpy as np"
   ]
  },
  {
   "cell_type": "code",
   "execution_count": 8,
   "metadata": {},
   "outputs": [],
   "source": [
    "from scipy import spatial"
   ]
  },
  {
   "cell_type": "code",
   "execution_count": 9,
   "metadata": {},
   "outputs": [],
   "source": [
    "new_matrix = np.dot(np.array(my_catalog), my_contribution)"
   ]
  },
  {
   "cell_type": "code",
   "execution_count": 46,
   "metadata": {},
   "outputs": [
    {
     "data": {
      "text/plain": [
       "array([ 2.43570841,  1.74975428,  0.43220203,  1.45335359,  0.52077384,\n",
       "        0.47376878,  0.17300021,  0.73296185,  5.46150108,  3.2832464 ,\n",
       "       21.40919377,  2.47597908,  1.21045989,  0.83154941,  0.87077849,\n",
       "        1.67344259,  5.07785245,  1.78977073,  3.06216992,  3.47946105,\n",
       "        0.51116139,  0.46429574,  0.57680826,  0.93035966,  2.41802211,\n",
       "        1.741024  ,  0.46751217,  1.9038047 ,  0.42894207,  0.41767872,\n",
       "        0.27412932,  0.63074446,  4.76072104,  3.88590631, 12.03642018,\n",
       "        3.7596822 ,  0.95607359,  1.01286922,  1.00800326,  0.73419302,\n",
       "        1.21633181,  1.61641786,  1.91744282,  2.0432854 ,  0.12267839,\n",
       "        0.76807036,  0.64718494,  1.41139788,  2.46703192,  2.12960725,\n",
       "        0.5723731 ,  2.09144963,  0.40514071,  0.60166742,  0.07079878,\n",
       "        0.2948486 ,  5.32385166,  6.9567497 , 15.9120744 ,  4.45406693,\n",
       "        0.44487327,  0.39976302,  0.50825239,  0.59462812,  2.4045706 ,\n",
       "        2.30742757,  1.67809123,  2.24936078,  0.07209163,  0.24226449,\n",
       "        0.3620686 ,  0.73927958,  2.56597714,  2.61161678,  0.65782026,\n",
       "        3.44913807,  0.52827202,  0.65493242,  0.08458507,  1.20186325,\n",
       "        4.34191701,  4.58704267,  9.67335041,  3.45438147,  1.27360763,\n",
       "        0.8211739 ,  0.55163841,  0.84763474,  2.1799929 ,  1.76010067,\n",
       "        1.89782582,  1.60537192,  0.61450803,  0.55331922,  0.6265743 ,\n",
       "        1.26831459])"
      ]
     },
     "execution_count": 46,
     "metadata": {},
     "output_type": "execute_result"
    }
   ],
   "source": [
    "new_matrix"
   ]
  },
  {
   "cell_type": "code",
   "execution_count": 47,
   "metadata": {},
   "outputs": [
    {
     "data": {
      "text/plain": [
       "array([3.00010e+00, 1.00000e-04, 2.00010e+00, 1.00000e-04, 1.00000e-04,\n",
       "       1.00010e+00, 1.00000e-04, 1.00000e-04, 5.00010e+00, 4.00010e+00,\n",
       "       2.20001e+01, 4.00010e+00, 1.00010e+00, 1.00010e+00, 1.00000e-04,\n",
       "       1.00010e+00, 6.00010e+00, 1.00000e-04, 4.00010e+00, 6.00010e+00,\n",
       "       1.00010e+00, 1.00000e-04, 1.00010e+00, 2.00010e+00, 1.00010e+00,\n",
       "       2.00010e+00, 1.00010e+00, 1.00010e+00, 1.00010e+00, 1.00000e-04,\n",
       "       1.00000e-04, 1.00010e+00, 7.00010e+00, 2.00010e+00, 1.00001e+01,\n",
       "       2.00010e+00, 1.00010e+00, 1.00000e-04, 1.00000e-04, 1.00000e-04,\n",
       "       1.00000e-04, 1.00010e+00, 3.00010e+00, 2.00010e+00, 1.00010e+00,\n",
       "       1.00010e+00, 2.00010e+00, 1.00010e+00, 4.00010e+00, 2.00010e+00,\n",
       "       1.00010e+00, 2.00010e+00, 1.00000e-04, 1.00000e-04, 1.00000e-04,\n",
       "       1.00000e-04, 6.00010e+00, 6.00010e+00, 1.80001e+01, 4.00010e+00,\n",
       "       1.00010e+00, 1.00000e-04, 1.00010e+00, 1.00010e+00, 1.00000e-04,\n",
       "       1.00000e-04, 1.00010e+00, 2.00010e+00, 1.00010e+00, 1.00000e-04,\n",
       "       1.00000e-04, 1.00000e-04, 3.00010e+00, 3.00010e+00, 1.00000e-04,\n",
       "       3.00010e+00, 1.00010e+00, 1.00000e-04, 1.00000e-04, 1.00010e+00,\n",
       "       4.00010e+00, 6.00010e+00, 9.00010e+00, 2.00010e+00, 1.00010e+00,\n",
       "       1.00010e+00, 2.00010e+00, 2.00010e+00, 2.00010e+00, 2.00010e+00,\n",
       "       1.00010e+00, 1.00010e+00, 1.00000e-04, 1.00000e-04, 1.00010e+00,\n",
       "       1.00010e+00])"
      ]
     },
     "execution_count": 47,
     "metadata": {},
     "output_type": "execute_result"
    }
   ],
   "source": [
    "my_input"
   ]
  },
  {
   "cell_type": "code",
   "execution_count": 17,
   "metadata": {},
   "outputs": [
    {
     "data": {
      "text/plain": [
       "array([118.2802532,   0.       ,   0.       ,   0.       ,   0.       ,\n",
       "         0.       ,   0.       ,   0.       ,   0.       ,   0.       ,\n",
       "         0.       ,   0.       ,   0.       ,   0.       ,  17.6194767,\n",
       "        44.3999353,   0.       ,   4.3229302,   0.       ,   0.       ,\n",
       "         0.       ,   0.       ,   0.       ,   5.5795102,   0.       ,\n",
       "         0.       ,   1.3361086,   0.       ,   0.       ,  16.8131646])"
      ]
     },
     "execution_count": 17,
     "metadata": {},
     "output_type": "execute_result"
    }
   ],
   "source": [
    "my_contribution"
   ]
  },
  {
   "cell_type": "code",
   "execution_count": 15,
   "metadata": {},
   "outputs": [],
   "source": [
    "similarity = paired_distances(np.array(new_matrix).reshape(-1, 1), np.array(my_input).reshape(-1, 1), metric='manhattan')"
   ]
  },
  {
   "cell_type": "code",
   "execution_count": 16,
   "metadata": {},
   "outputs": [
    {
     "data": {
      "text/plain": [
       "73.91965570731156"
      ]
     },
     "execution_count": 16,
     "metadata": {},
     "output_type": "execute_result"
    }
   ],
   "source": [
    "np.sum(similarity)"
   ]
  }
 ],
 "metadata": {
  "kernelspec": {
   "display_name": "Python 3",
   "language": "python",
   "name": "python3"
  },
  "language_info": {
   "codemirror_mode": {
    "name": "ipython",
    "version": 3
   },
   "file_extension": ".py",
   "mimetype": "text/x-python",
   "name": "python",
   "nbconvert_exporter": "python",
   "pygments_lexer": "ipython3",
   "version": "3.6.4"
  }
 },
 "nbformat": 4,
 "nbformat_minor": 2
}
