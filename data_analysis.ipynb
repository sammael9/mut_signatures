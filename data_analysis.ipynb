{
 "cells": [
  {
   "cell_type": "code",
   "execution_count": 1,
   "metadata": {
    "collapsed": true
   },
   "outputs": [],
   "source": [
    "import pandas as pd\n",
    "import numpy as np\n",
    "from sklearn.metrics.pairwise import cosine_similarity, cosine_distances, paired_distances\n",
    "from sklearn.metrics import pairwise_distances\n",
    "import numpy as np\n",
    "from scipy import spatial"
   ]
  },
  {
   "cell_type": "code",
   "execution_count": 2,
   "metadata": {},
   "outputs": [],
   "source": [
    "mutational_matrix = pd.read_csv(r'./resources/mut_mat.csv')\n",
    "reconstructed_matrix = pd.read_csv(r'./resources/reconstructed.csv')\n",
    "cosmic_catalog = pd.read_csv(r'./resources/cosmic_mutations.csv', delimiter='\\t')\n",
    "contribution_matrix = pd.read_csv(r'./resources/contribution.csv')"
   ]
  },
  {
   "cell_type": "code",
   "execution_count": 3,
   "metadata": {},
   "outputs": [],
   "source": [
    "mutational_matrix = mutational_matrix.sort_values(by='Somatic Mutation Type', axis=0)\n",
    "reconstructed_matrix = reconstructed_matrix.sort_values(by='Somatic Mutation Type', axis=0)\n",
    "cosmic_catalog = cosmic_catalog.sort_values(by='Somatic Mutation Type', axis=0)"
   ]
  },
  {
   "cell_type": "code",
   "execution_count": 4,
   "metadata": {},
   "outputs": [],
   "source": [
    "cosmic_catalog = cosmic_catalog.loc[:, ~cosmic_catalog.columns.str.contains('^Unnamed')]"
   ]
  },
  {
   "cell_type": "code",
   "execution_count": 5,
   "metadata": {},
   "outputs": [],
   "source": [
    "my_input = mutational_matrix[['colon1','colon2','colon3','intestine1','intestine2','intestine3','liver1','liver2','liver3']].values\n",
    "my_reconstructed = reconstructed_matrix[['colon1','colon2','colon3','intestine1','intestine2','intestine3','liver1','liver2','liver3']].values\n",
    "my_contribution = contribution_matrix[['colon1','colon2','colon3','intestine1','intestine2','intestine3','liver1','liver2','liver3']].values"
   ]
  },
  {
   "cell_type": "code",
   "execution_count": 6,
   "metadata": {},
   "outputs": [],
   "source": [
    "my_catalog = cosmic_catalog.loc[:, cosmic_catalog.columns.str.contains('^Signature')].values"
   ]
  },
  {
   "cell_type": "code",
   "execution_count": 7,
   "metadata": {},
   "outputs": [],
   "source": [
    "new_matrix = np.dot(my_catalog, my_contribution)"
   ]
  },
  {
   "cell_type": "code",
   "execution_count": 87,
   "metadata": {},
   "outputs": [],
   "source": [
    "similarity = paired_distances(new_matrix.reshape(-1,1), my_input.reshape(-1,1), metric='manhattan')"
   ]
  },
  {
   "cell_type": "code",
   "execution_count": 88,
   "metadata": {},
   "outputs": [
    {
     "data": {
      "text/plain": [
       "1.5375217392027791"
      ]
     },
     "execution_count": 88,
     "metadata": {},
     "output_type": "execute_result"
    }
   ],
   "source": [
    "np.average(similarity)"
   ]
  },
  {
   "cell_type": "code",
   "execution_count": 89,
   "metadata": {},
   "outputs": [
    {
     "data": {
      "text/plain": [
       "1328.4187826712011"
      ]
     },
     "execution_count": 89,
     "metadata": {},
     "output_type": "execute_result"
    }
   ],
   "source": [
    "np.sum(similarity)"
   ]
  },
  {
   "cell_type": "code",
   "execution_count": 8,
   "metadata": {},
   "outputs": [],
   "source": [
    "signeR_matrix = pd.read_csv(r'./resources/21_breast_cancers.mutations.txt', delimiter='\\t')\n",
    "signeR_contribution = pd.read_csv(r'./resources/exposures_signeR.csv')\n",
    "signeR_signatures = pd.read_csv(r'./resources/signatures_signeR.csv')"
   ]
  },
  {
   "cell_type": "code",
   "execution_count": 9,
   "metadata": {},
   "outputs": [],
   "source": [
    "signeR_matrix = signeR_matrix.loc[:, ~signeR_matrix.columns.str.contains('^Unnamed')].values\n",
    "signeR_contribution = signeR_contribution.loc[:, ~signeR_contribution.columns.str.contains('^Unnamed')].values\n",
    "signeR_signatures = signeR_signatures.loc[:, ~signeR_signatures.columns.str.contains('^Unnamed')].values"
   ]
  },
  {
   "cell_type": "code",
   "execution_count": 10,
   "metadata": {},
   "outputs": [],
   "source": [
    "signeR_reconstructed = np.dot(signeR_signatures, signeR_contribution)"
   ]
  },
  {
   "cell_type": "code",
   "execution_count": 11,
   "metadata": {},
   "outputs": [],
   "source": [
    "signeR_reconstructed = signeR_reconstructed.transpose()"
   ]
  },
  {
   "cell_type": "code",
   "execution_count": 12,
   "metadata": {},
   "outputs": [
    {
     "data": {
      "text/plain": [
       "(21, 96)"
      ]
     },
     "execution_count": 12,
     "metadata": {},
     "output_type": "execute_result"
    }
   ],
   "source": [
    "signeR_reconstructed.shape"
   ]
  },
  {
   "cell_type": "code",
   "execution_count": 13,
   "metadata": {},
   "outputs": [
    {
     "data": {
      "text/plain": [
       "(21, 96)"
      ]
     },
     "execution_count": 13,
     "metadata": {},
     "output_type": "execute_result"
    }
   ],
   "source": [
    "signeR_matrix.shape"
   ]
  },
  {
   "cell_type": "code",
   "execution_count": 17,
   "metadata": {},
   "outputs": [],
   "source": [
    "signeR_similarity = paired_distances(signeR_reconstructed, signeR_matrix, metric='cosine')"
   ]
  },
  {
   "cell_type": "code",
   "execution_count": 18,
   "metadata": {},
   "outputs": [
    {
     "data": {
      "text/plain": [
       "0.009896242331180664"
      ]
     },
     "execution_count": 18,
     "metadata": {},
     "output_type": "execute_result"
    }
   ],
   "source": [
    "np.average(signeR_similarity)"
   ]
  },
  {
   "cell_type": "code",
   "execution_count": 19,
   "metadata": {},
   "outputs": [
    {
     "data": {
      "text/plain": [
       "0.20782108895479395"
      ]
     },
     "execution_count": 19,
     "metadata": {},
     "output_type": "execute_result"
    }
   ],
   "source": [
    "np.sum(signeR_similarity)"
   ]
  }
 ],
 "metadata": {
  "kernelspec": {
   "display_name": "Python 3",
   "language": "python",
   "name": "python3"
  },
  "language_info": {
   "codemirror_mode": {
    "name": "ipython",
    "version": 3
   },
   "file_extension": ".py",
   "mimetype": "text/x-python",
   "name": "python",
   "nbconvert_exporter": "python",
   "pygments_lexer": "ipython3",
   "version": "3.6.4"
  }
 },
 "nbformat": 4,
 "nbformat_minor": 2
}
